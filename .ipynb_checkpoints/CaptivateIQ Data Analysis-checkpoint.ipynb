{
 "cells": [
  {
   "cell_type": "code",
   "execution_count": 54,
   "id": "99e5fd8c",
   "metadata": {},
   "outputs": [],
   "source": [
    "# Import dependencies and setup\n",
    "import pandas as pd\n",
    "import numpy as np\n",
    "\n",
    "# file to load\n",
    "captivateiq_data_to_load = (r\"C:\\Users\\Vyral\\Downloads\\CaptivateIQ Homework\\Resources\\CaptivateIQ - Exercise Data.csv\")\n",
    "\n",
    "# Read data into a Data Frame\n",
    "captivateiq_deal_data_df = pd.read_csv(captivateiq_data_to_load)\n"
   ]
  },
  {
   "cell_type": "code",
   "execution_count": 55,
   "id": "45eca9e2",
   "metadata": {},
   "outputs": [
    {
     "data": {
      "text/html": [
       "<div>\n",
       "<style scoped>\n",
       "    .dataframe tbody tr th:only-of-type {\n",
       "        vertical-align: middle;\n",
       "    }\n",
       "\n",
       "    .dataframe tbody tr th {\n",
       "        vertical-align: top;\n",
       "    }\n",
       "\n",
       "    .dataframe thead th {\n",
       "        text-align: right;\n",
       "    }\n",
       "</style>\n",
       "<table border=\"1\" class=\"dataframe\">\n",
       "  <thead>\n",
       "    <tr style=\"text-align: right;\">\n",
       "      <th></th>\n",
       "      <th>Opportunity_ID</th>\n",
       "      <th>Closed_Won_Date</th>\n",
       "      <th>Owner_User_ID</th>\n",
       "      <th>Contract_Length_(Months)</th>\n",
       "      <th>Total_Contract_Value</th>\n",
       "      <th>First_Payment_Date</th>\n",
       "    </tr>\n",
       "  </thead>\n",
       "  <tbody>\n",
       "    <tr>\n",
       "      <th>0</th>\n",
       "      <td>10286</td>\n",
       "      <td>1/1/2022</td>\n",
       "      <td>A</td>\n",
       "      <td>30</td>\n",
       "      <td>15600</td>\n",
       "      <td>1/20/2022</td>\n",
       "    </tr>\n",
       "    <tr>\n",
       "      <th>1</th>\n",
       "      <td>10272</td>\n",
       "      <td>1/11/2022</td>\n",
       "      <td>B</td>\n",
       "      <td>36</td>\n",
       "      <td>1800</td>\n",
       "      <td>2/1/2022</td>\n",
       "    </tr>\n",
       "    <tr>\n",
       "      <th>2</th>\n",
       "      <td>10230</td>\n",
       "      <td>1/16/2022</td>\n",
       "      <td>D</td>\n",
       "      <td>12</td>\n",
       "      <td>5500</td>\n",
       "      <td>1/20/2022</td>\n",
       "    </tr>\n",
       "    <tr>\n",
       "      <th>3</th>\n",
       "      <td>10237</td>\n",
       "      <td>1/20/2022</td>\n",
       "      <td>B</td>\n",
       "      <td>20</td>\n",
       "      <td>17000</td>\n",
       "      <td>12/9/2021</td>\n",
       "    </tr>\n",
       "    <tr>\n",
       "      <th>4</th>\n",
       "      <td>10110</td>\n",
       "      <td>1/22/2022</td>\n",
       "      <td>D</td>\n",
       "      <td>12</td>\n",
       "      <td>6000</td>\n",
       "      <td>3/29/2022</td>\n",
       "    </tr>\n",
       "    <tr>\n",
       "      <th>5</th>\n",
       "      <td>10281</td>\n",
       "      <td>1/26/2022</td>\n",
       "      <td>A</td>\n",
       "      <td>12</td>\n",
       "      <td>5115</td>\n",
       "      <td>2/23/2022</td>\n",
       "    </tr>\n",
       "    <tr>\n",
       "      <th>6</th>\n",
       "      <td>10276</td>\n",
       "      <td>1/27/2022</td>\n",
       "      <td>A</td>\n",
       "      <td>12</td>\n",
       "      <td>14412</td>\n",
       "      <td>2/1/2022</td>\n",
       "    </tr>\n",
       "    <tr>\n",
       "      <th>7</th>\n",
       "      <td>10133</td>\n",
       "      <td>1/31/2022</td>\n",
       "      <td>C</td>\n",
       "      <td>36</td>\n",
       "      <td>15260</td>\n",
       "      <td>3/5/2022</td>\n",
       "    </tr>\n",
       "    <tr>\n",
       "      <th>8</th>\n",
       "      <td>10271</td>\n",
       "      <td>1/31/2022</td>\n",
       "      <td>A</td>\n",
       "      <td>12</td>\n",
       "      <td>12000</td>\n",
       "      <td>2/10/2022</td>\n",
       "    </tr>\n",
       "    <tr>\n",
       "      <th>9</th>\n",
       "      <td>10282</td>\n",
       "      <td>2/1/2022</td>\n",
       "      <td>B</td>\n",
       "      <td>36</td>\n",
       "      <td>6589</td>\n",
       "      <td>2/22/2022</td>\n",
       "    </tr>\n",
       "  </tbody>\n",
       "</table>\n",
       "</div>"
      ],
      "text/plain": [
       "   Opportunity_ID Closed_Won_Date Owner_User_ID  Contract_Length_(Months)  \\\n",
       "0           10286        1/1/2022             A                        30   \n",
       "1           10272       1/11/2022             B                        36   \n",
       "2           10230       1/16/2022             D                        12   \n",
       "3           10237       1/20/2022             B                        20   \n",
       "4           10110       1/22/2022             D                        12   \n",
       "5           10281       1/26/2022             A                        12   \n",
       "6           10276       1/27/2022             A                        12   \n",
       "7           10133       1/31/2022             C                        36   \n",
       "8           10271       1/31/2022             A                        12   \n",
       "9           10282        2/1/2022             B                        36   \n",
       "\n",
       "   Total_Contract_Value First_Payment_Date  \n",
       "0                 15600          1/20/2022  \n",
       "1                  1800           2/1/2022  \n",
       "2                  5500          1/20/2022  \n",
       "3                 17000          12/9/2021  \n",
       "4                  6000          3/29/2022  \n",
       "5                  5115          2/23/2022  \n",
       "6                 14412           2/1/2022  \n",
       "7                 15260           3/5/2022  \n",
       "8                 12000          2/10/2022  \n",
       "9                  6589          2/22/2022  "
      ]
     },
     "execution_count": 55,
     "metadata": {},
     "output_type": "execute_result"
    }
   ],
   "source": [
    "captivateiq_deal_data_df.head(10)"
   ]
  },
  {
   "cell_type": "code",
   "execution_count": 56,
   "id": "43f19678",
   "metadata": {},
   "outputs": [
    {
     "data": {
      "text/plain": [
       "Opportunity_ID               int64\n",
       "Closed_Won_Date             object\n",
       "Owner_User_ID               object\n",
       "Contract_Length_(Months)     int64\n",
       "Total_Contract_Value         int64\n",
       "First_Payment_Date          object\n",
       "dtype: object"
      ]
     },
     "execution_count": 56,
     "metadata": {},
     "output_type": "execute_result"
    }
   ],
   "source": [
    "captivateiq_deal_data_df.dtypes"
   ]
  },
  {
   "cell_type": "code",
   "execution_count": 58,
   "id": "78fde06e",
   "metadata": {},
   "outputs": [
    {
     "ename": "NameError",
     "evalue": "name 'Total_Contract_Value' is not defined",
     "output_type": "error",
     "traceback": [
      "\u001b[1;31m---------------------------------------------------------------------------\u001b[0m",
      "\u001b[1;31mNameError\u001b[0m                                 Traceback (most recent call last)",
      "\u001b[1;32m~\\AppData\\Local\\Temp/ipykernel_1776/1041775629.py\u001b[0m in \u001b[0;36m<module>\u001b[1;34m\u001b[0m\n\u001b[0;32m      1\u001b[0m \u001b[1;31m# Determine the Commissionable ARR by deal\u001b[0m\u001b[1;33m\u001b[0m\u001b[1;33m\u001b[0m\u001b[1;33m\u001b[0m\u001b[0m\n\u001b[1;32m----> 2\u001b[1;33m \u001b[0mCommissionable_ARR\u001b[0m \u001b[1;33m=\u001b[0m \u001b[0mTotal_Contract_Value\u001b[0m \u001b[1;33m/\u001b[0m \u001b[0mContract_Length_\u001b[0m\u001b[1;33m(\u001b[0m\u001b[0mMonths\u001b[0m\u001b[1;33m)\u001b[0m \u001b[1;33m*\u001b[0m \u001b[1;36m12\u001b[0m\u001b[1;33m\u001b[0m\u001b[1;33m\u001b[0m\u001b[0m\n\u001b[0m",
      "\u001b[1;31mNameError\u001b[0m: name 'Total_Contract_Value' is not defined"
     ]
    }
   ],
   "source": [
    "# Determine the Commissionable ARR by deal\n",
    "Commissionable_ARR = Total_Contract_Value / Contract_Length_(Months) * 12"
   ]
  },
  {
   "cell_type": "code",
   "execution_count": null,
   "id": "59942fd0",
   "metadata": {},
   "outputs": [],
   "source": []
  }
 ],
 "metadata": {
  "kernelspec": {
   "display_name": "PythonData",
   "language": "python",
   "name": "pythondata"
  },
  "language_info": {
   "codemirror_mode": {
    "name": "ipython",
    "version": 3
   },
   "file_extension": ".py",
   "mimetype": "text/x-python",
   "name": "python",
   "nbconvert_exporter": "python",
   "pygments_lexer": "ipython3",
   "version": "3.7.11"
  }
 },
 "nbformat": 4,
 "nbformat_minor": 5
}
